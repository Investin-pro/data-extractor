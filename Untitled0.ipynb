{
  "nbformat": 4,
  "nbformat_minor": 0,
  "metadata": {
    "colab": {
      "name": "Untitled0.ipynb",
      "provenance": [],
      "authorship_tag": "ABX9TyNSeF0NnU4V0qHMr+ZZBqic",
      "include_colab_link": true
    },
    "kernelspec": {
      "name": "python3",
      "display_name": "Python 3"
    }
  },
  "cells": [
    {
      "cell_type": "markdown",
      "metadata": {
        "id": "view-in-github",
        "colab_type": "text"
      },
      "source": [
        "<a href=\"https://colab.research.google.com/github/aak-capital/data-extractor/blob/master/Untitled0.ipynb\" target=\"_parent\"><img src=\"https://colab.research.google.com/assets/colab-badge.svg\" alt=\"Open In Colab\"/></a>"
      ]
    },
    {
      "cell_type": "code",
      "metadata": {
        "id": "gvDDO3K50-Ox",
        "colab_type": "code",
        "colab": {
          "base_uri": "https://localhost:8080/",
          "height": 763
        },
        "outputId": "51f84faf-f617-423a-b073-65b6831a5b3b"
      },
      "source": [
        "pip install ccxt"
      ],
      "execution_count": 1,
      "outputs": [
        {
          "output_type": "stream",
          "text": [
            "Collecting ccxt\n",
            "\u001b[?25l  Downloading https://files.pythonhosted.org/packages/12/19/2bcd6f6ed25358a5fb84622e72f8455062d2bf29af9f6783522304e09f00/ccxt-1.22.38-py2.py3-none-any.whl (1.5MB)\n",
            "\r\u001b[K     |▎                               | 10kB 17.5MB/s eta 0:00:01\r\u001b[K     |▌                               | 20kB 3.3MB/s eta 0:00:01\r\u001b[K     |▊                               | 30kB 4.7MB/s eta 0:00:01\r\u001b[K     |█                               | 40kB 3.1MB/s eta 0:00:01\r\u001b[K     |█▏                              | 51kB 3.8MB/s eta 0:00:01\r\u001b[K     |█▍                              | 61kB 4.5MB/s eta 0:00:01\r\u001b[K     |█▋                              | 71kB 5.2MB/s eta 0:00:01\r\u001b[K     |█▉                              | 81kB 5.9MB/s eta 0:00:01\r\u001b[K     |██                              | 92kB 6.5MB/s eta 0:00:01\r\u001b[K     |██▎                             | 102kB 5.1MB/s eta 0:00:01\r\u001b[K     |██▌                             | 112kB 5.1MB/s eta 0:00:01\r\u001b[K     |██▊                             | 122kB 5.1MB/s eta 0:00:01\r\u001b[K     |███                             | 133kB 5.1MB/s eta 0:00:01\r\u001b[K     |███▏                            | 143kB 5.1MB/s eta 0:00:01\r\u001b[K     |███▍                            | 153kB 5.1MB/s eta 0:00:01\r\u001b[K     |███▋                            | 163kB 5.1MB/s eta 0:00:01\r\u001b[K     |███▉                            | 174kB 5.1MB/s eta 0:00:01\r\u001b[K     |████                            | 184kB 5.1MB/s eta 0:00:01\r\u001b[K     |████▎                           | 194kB 5.1MB/s eta 0:00:01\r\u001b[K     |████▌                           | 204kB 5.1MB/s eta 0:00:01\r\u001b[K     |████▊                           | 215kB 5.1MB/s eta 0:00:01\r\u001b[K     |█████                           | 225kB 5.1MB/s eta 0:00:01\r\u001b[K     |█████▏                          | 235kB 5.1MB/s eta 0:00:01\r\u001b[K     |█████▍                          | 245kB 5.1MB/s eta 0:00:01\r\u001b[K     |█████▋                          | 256kB 5.1MB/s eta 0:00:01\r\u001b[K     |█████▉                          | 266kB 5.1MB/s eta 0:00:01\r\u001b[K     |██████                          | 276kB 5.1MB/s eta 0:00:01\r\u001b[K     |██████▎                         | 286kB 5.1MB/s eta 0:00:01\r\u001b[K     |██████▌                         | 296kB 5.1MB/s eta 0:00:01\r\u001b[K     |██████▉                         | 307kB 5.1MB/s eta 0:00:01\r\u001b[K     |███████                         | 317kB 5.1MB/s eta 0:00:01\r\u001b[K     |███████▎                        | 327kB 5.1MB/s eta 0:00:01\r\u001b[K     |███████▌                        | 337kB 5.1MB/s eta 0:00:01\r\u001b[K     |███████▊                        | 348kB 5.1MB/s eta 0:00:01\r\u001b[K     |████████                        | 358kB 5.1MB/s eta 0:00:01\r\u001b[K     |████████▏                       | 368kB 5.1MB/s eta 0:00:01\r\u001b[K     |████████▍                       | 378kB 5.1MB/s eta 0:00:01\r\u001b[K     |████████▋                       | 389kB 5.1MB/s eta 0:00:01\r\u001b[K     |████████▉                       | 399kB 5.1MB/s eta 0:00:01\r\u001b[K     |█████████                       | 409kB 5.1MB/s eta 0:00:01\r\u001b[K     |█████████▎                      | 419kB 5.1MB/s eta 0:00:01\r\u001b[K     |█████████▌                      | 430kB 5.1MB/s eta 0:00:01\r\u001b[K     |█████████▊                      | 440kB 5.1MB/s eta 0:00:01\r\u001b[K     |██████████                      | 450kB 5.1MB/s eta 0:00:01\r\u001b[K     |██████████▏                     | 460kB 5.1MB/s eta 0:00:01\r\u001b[K     |██████████▍                     | 471kB 5.1MB/s eta 0:00:01\r\u001b[K     |██████████▋                     | 481kB 5.1MB/s eta 0:00:01\r\u001b[K     |██████████▉                     | 491kB 5.1MB/s eta 0:00:01\r\u001b[K     |███████████                     | 501kB 5.1MB/s eta 0:00:01\r\u001b[K     |███████████▎                    | 512kB 5.1MB/s eta 0:00:01\r\u001b[K     |███████████▌                    | 522kB 5.1MB/s eta 0:00:01\r\u001b[K     |███████████▊                    | 532kB 5.1MB/s eta 0:00:01\r\u001b[K     |████████████                    | 542kB 5.1MB/s eta 0:00:01\r\u001b[K     |████████████▏                   | 552kB 5.1MB/s eta 0:00:01\r\u001b[K     |████████████▍                   | 563kB 5.1MB/s eta 0:00:01\r\u001b[K     |████████████▋                   | 573kB 5.1MB/s eta 0:00:01\r\u001b[K     |████████████▉                   | 583kB 5.1MB/s eta 0:00:01\r\u001b[K     |█████████████                   | 593kB 5.1MB/s eta 0:00:01\r\u001b[K     |█████████████▎                  | 604kB 5.1MB/s eta 0:00:01\r\u001b[K     |█████████████▋                  | 614kB 5.1MB/s eta 0:00:01\r\u001b[K     |█████████████▉                  | 624kB 5.1MB/s eta 0:00:01\r\u001b[K     |██████████████                  | 634kB 5.1MB/s eta 0:00:01\r\u001b[K     |██████████████▎                 | 645kB 5.1MB/s eta 0:00:01\r\u001b[K     |██████████████▌                 | 655kB 5.1MB/s eta 0:00:01\r\u001b[K     |██████████████▊                 | 665kB 5.1MB/s eta 0:00:01\r\u001b[K     |███████████████                 | 675kB 5.1MB/s eta 0:00:01\r\u001b[K     |███████████████▏                | 686kB 5.1MB/s eta 0:00:01\r\u001b[K     |███████████████▍                | 696kB 5.1MB/s eta 0:00:01\r\u001b[K     |███████████████▋                | 706kB 5.1MB/s eta 0:00:01\r\u001b[K     |███████████████▉                | 716kB 5.1MB/s eta 0:00:01\r\u001b[K     |████████████████                | 727kB 5.1MB/s eta 0:00:01\r\u001b[K     |████████████████▎               | 737kB 5.1MB/s eta 0:00:01\r\u001b[K     |████████████████▌               | 747kB 5.1MB/s eta 0:00:01\r\u001b[K     |████████████████▊               | 757kB 5.1MB/s eta 0:00:01\r\u001b[K     |█████████████████               | 768kB 5.1MB/s eta 0:00:01\r\u001b[K     |█████████████████▏              | 778kB 5.1MB/s eta 0:00:01\r\u001b[K     |█████████████████▍              | 788kB 5.1MB/s eta 0:00:01\r\u001b[K     |█████████████████▋              | 798kB 5.1MB/s eta 0:00:01\r\u001b[K     |█████████████████▉              | 808kB 5.1MB/s eta 0:00:01\r\u001b[K     |██████████████████              | 819kB 5.1MB/s eta 0:00:01\r\u001b[K     |██████████████████▎             | 829kB 5.1MB/s eta 0:00:01\r\u001b[K     |██████████████████▌             | 839kB 5.1MB/s eta 0:00:01\r\u001b[K     |██████████████████▊             | 849kB 5.1MB/s eta 0:00:01\r\u001b[K     |███████████████████             | 860kB 5.1MB/s eta 0:00:01\r\u001b[K     |███████████████████▏            | 870kB 5.1MB/s eta 0:00:01\r\u001b[K     |███████████████████▍            | 880kB 5.1MB/s eta 0:00:01\r\u001b[K     |███████████████████▋            | 890kB 5.1MB/s eta 0:00:01\r\u001b[K     |███████████████████▉            | 901kB 5.1MB/s eta 0:00:01\r\u001b[K     |████████████████████            | 911kB 5.1MB/s eta 0:00:01\r\u001b[K     |████████████████████▍           | 921kB 5.1MB/s eta 0:00:01\r\u001b[K     |████████████████████▋           | 931kB 5.1MB/s eta 0:00:01\r\u001b[K     |████████████████████▉           | 942kB 5.1MB/s eta 0:00:01\r\u001b[K     |█████████████████████           | 952kB 5.1MB/s eta 0:00:01\r\u001b[K     |█████████████████████▎          | 962kB 5.1MB/s eta 0:00:01\r\u001b[K     |█████████████████████▌          | 972kB 5.1MB/s eta 0:00:01\r\u001b[K     |█████████████████████▊          | 983kB 5.1MB/s eta 0:00:01\r\u001b[K     |██████████████████████          | 993kB 5.1MB/s eta 0:00:01\r\u001b[K     |██████████████████████▏         | 1.0MB 5.1MB/s eta 0:00:01\r\u001b[K     |██████████████████████▍         | 1.0MB 5.1MB/s eta 0:00:01\r\u001b[K     |██████████████████████▋         | 1.0MB 5.1MB/s eta 0:00:01\r\u001b[K     |██████████████████████▉         | 1.0MB 5.1MB/s eta 0:00:01\r\u001b[K     |███████████████████████         | 1.0MB 5.1MB/s eta 0:00:01\r\u001b[K     |███████████████████████▎        | 1.1MB 5.1MB/s eta 0:00:01\r\u001b[K     |███████████████████████▌        | 1.1MB 5.1MB/s eta 0:00:01\r\u001b[K     |███████████████████████▊        | 1.1MB 5.1MB/s eta 0:00:01\r\u001b[K     |████████████████████████        | 1.1MB 5.1MB/s eta 0:00:01\r\u001b[K     |████████████████████████▏       | 1.1MB 5.1MB/s eta 0:00:01\r\u001b[K     |████████████████████████▍       | 1.1MB 5.1MB/s eta 0:00:01\r\u001b[K     |████████████████████████▋       | 1.1MB 5.1MB/s eta 0:00:01\r\u001b[K     |████████████████████████▉       | 1.1MB 5.1MB/s eta 0:00:01\r\u001b[K     |█████████████████████████       | 1.1MB 5.1MB/s eta 0:00:01\r\u001b[K     |█████████████████████████▎      | 1.1MB 5.1MB/s eta 0:00:01\r\u001b[K     |█████████████████████████▌      | 1.2MB 5.1MB/s eta 0:00:01\r\u001b[K     |█████████████████████████▊      | 1.2MB 5.1MB/s eta 0:00:01\r\u001b[K     |██████████████████████████      | 1.2MB 5.1MB/s eta 0:00:01\r\u001b[K     |██████████████████████████▏     | 1.2MB 5.1MB/s eta 0:00:01\r\u001b[K     |██████████████████████████▍     | 1.2MB 5.1MB/s eta 0:00:01\r\u001b[K     |██████████████████████████▋     | 1.2MB 5.1MB/s eta 0:00:01\r\u001b[K     |███████████████████████████     | 1.2MB 5.1MB/s eta 0:00:01\r\u001b[K     |███████████████████████████▏    | 1.2MB 5.1MB/s eta 0:00:01\r\u001b[K     |███████████████████████████▍    | 1.2MB 5.1MB/s eta 0:00:01\r\u001b[K     |███████████████████████████▋    | 1.2MB 5.1MB/s eta 0:00:01\r\u001b[K     |███████████████████████████▉    | 1.3MB 5.1MB/s eta 0:00:01\r\u001b[K     |████████████████████████████    | 1.3MB 5.1MB/s eta 0:00:01\r\u001b[K     |████████████████████████████▎   | 1.3MB 5.1MB/s eta 0:00:01\r\u001b[K     |████████████████████████████▌   | 1.3MB 5.1MB/s eta 0:00:01\r\u001b[K     |████████████████████████████▊   | 1.3MB 5.1MB/s eta 0:00:01\r\u001b[K     |█████████████████████████████   | 1.3MB 5.1MB/s eta 0:00:01\r\u001b[K     |█████████████████████████████▏  | 1.3MB 5.1MB/s eta 0:00:01\r\u001b[K     |█████████████████████████████▍  | 1.3MB 5.1MB/s eta 0:00:01\r\u001b[K     |█████████████████████████████▋  | 1.3MB 5.1MB/s eta 0:00:01\r\u001b[K     |█████████████████████████████▉  | 1.4MB 5.1MB/s eta 0:00:01\r\u001b[K     |██████████████████████████████  | 1.4MB 5.1MB/s eta 0:00:01\r\u001b[K     |██████████████████████████████▎ | 1.4MB 5.1MB/s eta 0:00:01\r\u001b[K     |██████████████████████████████▌ | 1.4MB 5.1MB/s eta 0:00:01\r\u001b[K     |██████████████████████████████▊ | 1.4MB 5.1MB/s eta 0:00:01\r\u001b[K     |███████████████████████████████ | 1.4MB 5.1MB/s eta 0:00:01\r\u001b[K     |███████████████████████████████▏| 1.4MB 5.1MB/s eta 0:00:01\r\u001b[K     |███████████████████████████████▍| 1.4MB 5.1MB/s eta 0:00:01\r\u001b[K     |███████████████████████████████▋| 1.4MB 5.1MB/s eta 0:00:01\r\u001b[K     |███████████████████████████████▉| 1.4MB 5.1MB/s eta 0:00:01\r\u001b[K     |████████████████████████████████| 1.5MB 5.1MB/s \n",
            "\u001b[?25hRequirement already satisfied: certifi>=2018.1.18 in /usr/local/lib/python3.6/dist-packages (from ccxt) (2019.11.28)\n",
            "Collecting cryptography>=2.6.1\n",
            "\u001b[?25l  Downloading https://files.pythonhosted.org/packages/ca/9a/7cece52c46546e214e10811b36b2da52ce1ea7fa203203a629b8dfadad53/cryptography-2.8-cp34-abi3-manylinux2010_x86_64.whl (2.3MB)\n",
            "\u001b[K     |████████████████████████████████| 2.3MB 47.9MB/s \n",
            "\u001b[?25hRequirement already satisfied: setuptools>=38.5.1 in /usr/local/lib/python3.6/dist-packages (from ccxt) (45.1.0)\n",
            "Collecting aiodns==1.1.1; python_version >= \"3.5.2\"\n",
            "  Downloading https://files.pythonhosted.org/packages/bd/f5/b69cb930fd5ab0569396659afe3f3c0d37d4098e5d0ba6afdf6fd9388cb0/aiodns-1.1.1-py2.py3-none-any.whl\n",
            "Collecting yarl==1.1.0; python_version >= \"3.5.2\"\n",
            "\u001b[?25l  Downloading https://files.pythonhosted.org/packages/9a/fe/1fc0d9e277f1ff0d29ac44742f769c55f12cc7e66a89ab340f5321937179/yarl-1.1.0-cp36-cp36m-manylinux1_x86_64.whl (255kB)\n",
            "\u001b[K     |████████████████████████████████| 256kB 61.8MB/s \n",
            "\u001b[?25hRequirement already satisfied: requests>=2.18.4 in /usr/local/lib/python3.6/dist-packages (from ccxt) (2.21.0)\n",
            "Collecting aiohttp==3.6.2; python_version >= \"3.5.2\"\n",
            "\u001b[?25l  Downloading https://files.pythonhosted.org/packages/7c/39/7eb5f98d24904e0f6d3edb505d4aa60e3ef83c0a58d6fe18244a51757247/aiohttp-3.6.2-cp36-cp36m-manylinux1_x86_64.whl (1.2MB)\n",
            "\u001b[K     |████████████████████████████████| 1.2MB 55.2MB/s \n",
            "\u001b[?25hRequirement already satisfied: cffi!=1.11.3,>=1.8 in /usr/local/lib/python3.6/dist-packages (from cryptography>=2.6.1->ccxt) (1.13.2)\n",
            "Requirement already satisfied: six>=1.4.1 in /usr/local/lib/python3.6/dist-packages (from cryptography>=2.6.1->ccxt) (1.12.0)\n",
            "Collecting pycares>=1.0.0\n",
            "\u001b[?25l  Downloading https://files.pythonhosted.org/packages/43/2d/7f4984a23f6e99cf6a8b20ddc59308efb209fe81e79c97af65e9b30eefae/pycares-3.1.1-cp36-cp36m-manylinux2010_x86_64.whl (228kB)\n",
            "\u001b[K     |████████████████████████████████| 235kB 43.4MB/s \n",
            "\u001b[?25hCollecting multidict>=4.0\n",
            "\u001b[?25l  Downloading https://files.pythonhosted.org/packages/06/5a/d423c846bb839105143d4cd90da19d0f3fc972c51be651f92ac419a20698/multidict-4.7.4-cp36-cp36m-manylinux1_x86_64.whl (147kB)\n",
            "\u001b[K     |████████████████████████████████| 153kB 59.2MB/s \n",
            "\u001b[?25hRequirement already satisfied: idna>=2.0 in /usr/local/lib/python3.6/dist-packages (from yarl==1.1.0; python_version >= \"3.5.2\"->ccxt) (2.8)\n",
            "Requirement already satisfied: chardet<3.1.0,>=3.0.2 in /usr/local/lib/python3.6/dist-packages (from requests>=2.18.4->ccxt) (3.0.4)\n",
            "Requirement already satisfied: urllib3<1.25,>=1.21.1 in /usr/local/lib/python3.6/dist-packages (from requests>=2.18.4->ccxt) (1.24.3)\n",
            "Requirement already satisfied: attrs>=17.3.0 in /usr/local/lib/python3.6/dist-packages (from aiohttp==3.6.2; python_version >= \"3.5.2\"->ccxt) (19.3.0)\n",
            "Collecting async-timeout<4.0,>=3.0\n",
            "  Downloading https://files.pythonhosted.org/packages/e1/1e/5a4441be21b0726c4464f3f23c8b19628372f606755a9d2e46c187e65ec4/async_timeout-3.0.1-py3-none-any.whl\n",
            "Collecting idna-ssl>=1.0; python_version < \"3.7\"\n",
            "  Downloading https://files.pythonhosted.org/packages/46/03/07c4894aae38b0de52b52586b24bf189bb83e4ddabfe2e2c8f2419eec6f4/idna-ssl-1.1.0.tar.gz\n",
            "Requirement already satisfied: typing-extensions>=3.6.5; python_version < \"3.7\" in /usr/local/lib/python3.6/dist-packages (from aiohttp==3.6.2; python_version >= \"3.5.2\"->ccxt) (3.6.6)\n",
            "Requirement already satisfied: pycparser in /usr/local/lib/python3.6/dist-packages (from cffi!=1.11.3,>=1.8->cryptography>=2.6.1->ccxt) (2.19)\n",
            "Building wheels for collected packages: idna-ssl\n",
            "  Building wheel for idna-ssl (setup.py) ... \u001b[?25l\u001b[?25hdone\n",
            "  Created wheel for idna-ssl: filename=idna_ssl-1.1.0-cp36-none-any.whl size=3162 sha256=60302832f71987cf157b4b4523f69289dceb32f6a557fa90fe8def32491bbcc8\n",
            "  Stored in directory: /root/.cache/pip/wheels/d3/00/b3/32d613e19e08a739751dd6bf998cfed277728f8b2127ad4eb7\n",
            "Successfully built idna-ssl\n",
            "Installing collected packages: cryptography, pycares, aiodns, multidict, yarl, async-timeout, idna-ssl, aiohttp, ccxt\n",
            "Successfully installed aiodns-1.1.1 aiohttp-3.6.2 async-timeout-3.0.1 ccxt-1.22.38 cryptography-2.8 idna-ssl-1.1.0 multidict-4.7.4 pycares-3.1.1 yarl-1.1.0\n"
          ],
          "name": "stdout"
        }
      ]
    },
    {
      "cell_type": "code",
      "metadata": {
        "id": "Vd1rpNdhfyEW",
        "colab_type": "code",
        "colab": {}
      },
      "source": [
        "!wget http://prdownloads.sourceforge.net/ta-lib/ta-lib-0.4.0-src.tar.gz\n",
        "!tar -xzvf ta-lib-0.4.0-src.tar.gz\n",
        "%cd ta-lib\n",
        "!./configure --prefix=/usr\n",
        "!make\n",
        "!make install\n",
        "!pip install Ta-Lib"
      ],
      "execution_count": 0,
      "outputs": []
    },
    {
      "cell_type": "code",
      "metadata": {
        "id": "WjcJlT6BS1P9",
        "colab_type": "code",
        "colab": {
          "base_uri": "https://localhost:8080/",
          "height": 104
        },
        "outputId": "e76b1a81-39d4-4d81-fda5-179518b002ee"
      },
      "source": [
        "pip install pandas"
      ],
      "execution_count": 27,
      "outputs": [
        {
          "output_type": "stream",
          "text": [
            "Requirement already satisfied: pandas in /usr/local/lib/python3.6/dist-packages (0.25.3)\n",
            "Requirement already satisfied: pytz>=2017.2 in /usr/local/lib/python3.6/dist-packages (from pandas) (2018.9)\n",
            "Requirement already satisfied: python-dateutil>=2.6.1 in /usr/local/lib/python3.6/dist-packages (from pandas) (2.6.1)\n",
            "Requirement already satisfied: numpy>=1.13.3 in /usr/local/lib/python3.6/dist-packages (from pandas) (1.17.5)\n",
            "Requirement already satisfied: six>=1.5 in /usr/local/lib/python3.6/dist-packages (from python-dateutil>=2.6.1->pandas) (1.12.0)\n"
          ],
          "name": "stdout"
        }
      ]
    },
    {
      "cell_type": "code",
      "metadata": {
        "id": "jwMFjsB61D-7",
        "colab_type": "code",
        "colab": {
          "base_uri": "https://localhost:8080/",
          "height": 225
        },
        "outputId": "ba129bf9-143c-40fb-fa09-49abbd52eb4d"
      },
      "source": [
        "import ccxt\n",
        "import pandas as pd\n",
        "from talib.abstract import *\n",
        "\n",
        "\n",
        "\n",
        "bitmex = ccxt.bitmex({\n",
        "    'apiKey': 'DcodYcqSWfjCQGmAtSqqtSYz',\n",
        "    'secret': 'zsFIB1ANvgh7Rtif_yJHsyQQezX5JUfg_bM7V8mE7yZPvvcH',\n",
        "    'enableRateLimit': True,\n",
        "})\n",
        "\n",
        "# print(bitmex.fetchOHLCV('BTC/USD'))\n",
        "# print(bitmex.fetchTickers())\n",
        "data = bitmex.fetch_ohlcv('BTC/USD', '1d')\n",
        "header = ['Timestamp', 'open', 'high', 'low', 'close', 'volume']\n",
        "# print(data[0])\n",
        "df = pd.DataFrame(data, columns=header)\n",
        "# df1 = df[['O', 'H', 'L', 'C', 'V']]\n",
        "# del df['Timestamp']\n",
        "# df1.loc[:, 'O':]\n",
        "inputs = df[df.columns[1:]]\n",
        "\n",
        "# uses close prices (default)\n",
        "output = SMA(inputs, timeperiod=25)\n",
        "print(output)\n"
      ],
      "execution_count": 76,
      "outputs": [
        {
          "output_type": "stream",
          "text": [
            "0          NaN\n",
            "1          NaN\n",
            "2          NaN\n",
            "3          NaN\n",
            "4          NaN\n",
            "        ...   \n",
            "95    436.6816\n",
            "96    437.8816\n",
            "97    439.5104\n",
            "98    441.0820\n",
            "99    441.5620\n",
            "Length: 100, dtype: float64\n"
          ],
          "name": "stdout"
        }
      ]
    },
    {
      "cell_type": "code",
      "metadata": {
        "id": "wuaKIwqYhrkB",
        "colab_type": "code",
        "colab": {}
      },
      "source": [
        "import numpy\n",
        "import talib\n",
        "from talib import MA_Type\n",
        "from talib.go import \n",
        "# talib.get_functions()\n",
        "\n",
        "# close = numpy.random.random(100)\n",
        "# upper, middle, lower = talib.BBANDS(close, matype=MA_Type.T3)\n",
        "# print (upper)"
      ],
      "execution_count": 0,
      "outputs": []
    },
    {
      "cell_type": "code",
      "metadata": {
        "id": "hvhq105dm6V6",
        "colab_type": "code",
        "colab": {}
      },
      "source": [
        "import requests\n",
        "r = requests.get(\"https://google.com\")\n"
      ],
      "execution_count": 0,
      "outputs": []
    },
    {
      "cell_type": "code",
      "metadata": {
        "id": "lULFDEJsuspd",
        "colab_type": "code",
        "colab": {
          "base_uri": "https://localhost:8080/",
          "height": 52
        },
        "outputId": "dd944fa6-3357-4dc5-db75-e9ab1b5a02d1"
      },
      "source": [
        ""
      ],
      "execution_count": 79,
      "outputs": [
        {
          "output_type": "stream",
          "text": [
            "\u001b[31mERROR: Could not find a version that satisfies the requirement market_maker (from versions: none)\u001b[0m\n",
            "\u001b[31mERROR: No matching distribution found for market_maker\u001b[0m\n"
          ],
          "name": "stdout"
        }
      ]
    }
  ]
}