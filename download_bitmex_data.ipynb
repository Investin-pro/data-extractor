{
  "nbformat": 4,
  "nbformat_minor": 0,
  "metadata": {
    "colab": {
      "name": "Untitled0.ipynb",
      "provenance": [],
      "authorship_tag": "ABX9TyNSeF0NnU4V0qHMr+ZZBqic",
      "include_colab_link": true
    },
    "kernelspec": {
      "name": "python3",
      "display_name": "Python 3"
    }
  },
  "cells": [
    {
      "cell_type": "markdown",
      "metadata": {
        "id": "view-in-github",
        "colab_type": "text"
      },
      "source": [
        "<a href=\"https://colab.research.google.com/github/aak-capital/data-extractor/blob/master/download_bitmex_data.ipynb\" target=\"_parent\"><img src=\"https://colab.research.google.com/assets/colab-badge.svg\" alt=\"Open In Colab\"/></a>"
      ]
    },
    {
      "cell_type": "code",
      "metadata": {
        "id": "gvDDO3K50-Ox",
        "colab_type": "code",
        "colab": {}
      },
      "source": [
        "pip install ccxt"
      ],
      "execution_count": 0,
      "outputs": []
    },
    {
      "cell_type": "code",
      "metadata": {
        "id": "Vd1rpNdhfyEW",
        "colab_type": "code",
        "colab": {}
      },
      "source": [
        "!wget http://prdownloads.sourceforge.net/ta-lib/ta-lib-0.4.0-src.tar.gz\n",
        "!tar -xzvf ta-lib-0.4.0-src.tar.gz\n",
        "%cd ta-lib\n",
        "!./configure --prefix=/usr\n",
        "!make\n",
        "!make install\n",
        "!pip install Ta-Lib"
      ],
      "execution_count": 0,
      "outputs": []
    },
    {
      "cell_type": "code",
      "metadata": {
        "id": "WjcJlT6BS1P9",
        "colab_type": "code",
        "colab": {}
      },
      "source": [
        "pip install pandas"
      ],
      "execution_count": 0,
      "outputs": []
    },
    {
      "cell_type": "code",
      "metadata": {
        "id": "jwMFjsB61D-7",
        "colab_type": "code",
        "colab": {}
      },
      "source": [
        "import ccxt\n",
        "import pandas as pd\n",
        "from talib.abstract import *\n",
        "\n",
        "\n",
        "\n",
        "bitmex = ccxt.bitmex({\n",
        "    'apiKey': 'DcodYcqSWfjCQGmAtSqqtSYz',\n",
        "    'secret': 'zsFIB1ANvgh7Rtif_yJHsyQQezX5JUfg_bM7V8mE7yZPvvcH',\n",
        "    'enableRateLimit': True,\n",
        "})\n",
        "\n",
        "# print(bitmex.fetchOHLCV('BTC/USD'))\n",
        "# print(bitmex.fetchTickers())\n",
        "data = bitmex.fetch_ohlcv('BTC/USD', '1d')\n",
        "header = ['Timestamp', 'open', 'high', 'low', 'close', 'volume']\n",
        "# print(data[0])\n",
        "df = pd.DataFrame(data, columns=header)\n",
        "# df1 = df[['O', 'H', 'L', 'C', 'V']]\n",
        "# del df['Timestamp']\n",
        "# df1.loc[:, 'O':]\n",
        "inputs = df[df.columns[1:]]\n",
        "\n",
        "# uses close prices (default)\n",
        "output = SMA(inputs, timeperiod=25)\n",
        "print(output)\n"
      ],
      "execution_count": 0,
      "outputs": []
    },
    {
      "cell_type": "code",
      "metadata": {
        "id": "wuaKIwqYhrkB",
        "colab_type": "code",
        "colab": {}
      },
      "source": [
        "import numpy\n",
        "import talib\n",
        "from talib import MA_Type\n",
        "from talib.go import \n",
        "# talib.get_functions()\n",
        "\n",
        "# close = numpy.random.random(100)\n",
        "# upper, middle, lower = talib.BBANDS(close, matype=MA_Type.T3)\n",
        "# print (upper)"
      ],
      "execution_count": 0,
      "outputs": []
    },
    {
      "cell_type": "code",
      "metadata": {
        "id": "hvhq105dm6V6",
        "colab_type": "code",
        "colab": {}
      },
      "source": [
        "import requests\n",
        "r = requests.get(\"https://google.com\")\n"
      ],
      "execution_count": 0,
      "outputs": []
    },
    {
      "cell_type": "code",
      "metadata": {
        "id": "lULFDEJsuspd",
        "colab_type": "code",
        "colab": {}
      },
      "source": [
        ""
      ],
      "execution_count": 0,
      "outputs": []
    }
  ]
}